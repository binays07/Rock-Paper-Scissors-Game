{
  "nbformat": 4,
  "nbformat_minor": 0,
  "metadata": {
    "colab": {
      "name": "Untitled1.ipynb",
      "provenance": []
    },
    "kernelspec": {
      "display_name": "Python 3",
      "name": "python3"
    },
    "language_info": {
      "name": "python"
    }
  },
  "cells": [
    {
      "cell_type": "markdown",
      "metadata": {
        "id": "EqPfLxG4rKLr"
      },
      "source": [
        "Rock, Paper, Scissors Game"
      ]
    },
    {
      "cell_type": "code",
      "metadata": {
        "colab": {
          "base_uri": "https://localhost:8080/"
        },
        "id": "EvVkd0POrP5z",
        "outputId": "8e3babe9-10cb-423c-e255-f3854c5361a6"
      },
      "source": [
        "import random\n",
        "import os\n",
        "import re\n",
        "os.system('cls' if os.name=='nt' else 'clear')\n",
        "while (1 < 2):\n",
        "  print(\"\\n\")\n",
        "  print(\"Rock, Paper, Scissors - Shoot!\")\n",
        "  userChoice = input(\"Choose your weapon [R]ock], [P]aper, or [S]cissors: \")\n",
        "  if not re.match(\"[SsRrPp]\", userChoice):\n",
        "    print(\"Please choose a letter:\")\n",
        "    print(\"[R]ock, [S]cissors or [P]aper.\")\n",
        "    continue\n",
        "  #Echo the user choice\n",
        "  print(\"You chose: \" + userChoice)\n",
        "  choices = ['R', 'P', 'S']\n",
        "  opponenetChoice = random.choice(choices)\n",
        "  print(\"I chose: \" + opponenetChoice)\n",
        "  if opponenetChoice == str.upper(userChoice):\n",
        "    print(\"Tie! \")\n",
        "  #if opponenetChoice == str(\"R\") and str.upper(userChoice) == \"P\"\n",
        "  elif opponenetChoice == 'R' and userChoice.upper() == 'S':\n",
        "    print(\"Scissors beats rock, I win! \")\n",
        "    continue\n",
        "  elif opponenetChoice == 'S' and userChoice.upper() == 'P':\n",
        "    print(\"Scissors beats paper! I win! \")\n",
        "    continue\n",
        "  elif opponenetChoice == 'P' and userChoice.upper() == 'R':\n",
        "    print(\"Paper beat rock, I win! \")\n",
        "    continue\n",
        "  else:\n",
        "    print(\"You win!\")"
      ],
      "execution_count": null,
      "outputs": [
        {
          "metadata": {
            "tags": null
          },
          "name": "stdout",
          "output_type": "stream",
          "text": [
            "\n",
            "\n",
            "Rock, Paper, Scissors - Shoot!\n",
            "You chose: S\n",
            "I chose: S\n",
            "Tie! \n",
            "\n",
            "\n",
            "Rock, Paper, Scissors - Shoot!\n",
            "You chose: R\n",
            "I chose: S\n",
            "You win!\n",
            "\n",
            "\n",
            "Rock, Paper, Scissors - Shoot!\n"
          ]
        }
      ]
    }
  ]
}